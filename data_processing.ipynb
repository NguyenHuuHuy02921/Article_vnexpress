{
 "cells": [
  {
   "cell_type": "code",
   "execution_count": 1,
   "metadata": {
    "id": "HP4XfkR4Kc5d"
   },
   "outputs": [],
   "source": [
    "import pandas as pd"
   ]
  },
  {
   "cell_type": "code",
   "execution_count": 2,
   "metadata": {
    "colab": {
     "base_uri": "https://localhost:8080/"
    },
    "executionInfo": {
     "elapsed": 744,
     "status": "ok",
     "timestamp": 1732645675008,
     "user": {
      "displayName": "Phương Nguyễn Văn",
      "userId": "11041102974686948356"
     },
     "user_tz": -420
    },
    "id": "Yb9536jXKpRC",
    "outputId": "57819938-d0bf-4280-89e7-afc32e43148d"
   },
   "outputs": [
    {
     "data": {
      "text/html": [
       "<div>\n",
       "<style scoped>\n",
       "    .dataframe tbody tr th:only-of-type {\n",
       "        vertical-align: middle;\n",
       "    }\n",
       "\n",
       "    .dataframe tbody tr th {\n",
       "        vertical-align: top;\n",
       "    }\n",
       "\n",
       "    .dataframe thead th {\n",
       "        text-align: right;\n",
       "    }\n",
       "</style>\n",
       "<table border=\"1\" class=\"dataframe\">\n",
       "  <thead>\n",
       "    <tr style=\"text-align: right;\">\n",
       "      <th></th>\n",
       "      <th>title</th>\n",
       "      <th>link</th>\n",
       "      <th>img</th>\n",
       "      <th>info</th>\n",
       "      <th>info_detail</th>\n",
       "      <th>page</th>\n",
       "      <th>category</th>\n",
       "    </tr>\n",
       "  </thead>\n",
       "  <tbody>\n",
       "    <tr>\n",
       "      <th>0</th>\n",
       "      <td>Thailand eyes sending more workers to Singapore</td>\n",
       "      <td>https://e.vnexpress.net/news/business/economy/...</td>\n",
       "      <td>https://i1-english.vnecdn.net/2024/11/04/AAFP2...</td>\n",
       "      <td>Thailand’s Ministry of Labor is planning to ex...</td>\n",
       "      <td>Singapore is looking for welders in the shipbu...</td>\n",
       "      <td>https://e.vnexpress.net/</td>\n",
       "      <td>economy</td>\n",
       "    </tr>\n",
       "    <tr>\n",
       "      <th>1</th>\n",
       "      <td>How will Trump and Harris’s policies affect Vi...</td>\n",
       "      <td>https://e.vnexpress.net/news/business/economy/...</td>\n",
       "      <td>https://i1-english.vnecdn.net/2024/11/04/Trump...</td>\n",
       "      <td>Vietnam’s economy is likely to have similar im...</td>\n",
       "      <td>The outcome of the presidential elections, set...</td>\n",
       "      <td>https://e.vnexpress.net/</td>\n",
       "      <td>economy</td>\n",
       "    </tr>\n",
       "    <tr>\n",
       "      <th>2</th>\n",
       "      <td>Agriculture exports soar 20%, led by durian, c...</td>\n",
       "      <td>https://e.vnexpress.net/news/business/economy/...</td>\n",
       "      <td>https://i1-english.vnecdn.net/2024/11/02/ADSC0...</td>\n",
       "      <td>Vietnam’s agriculture exports in the first 10 ...</td>\n",
       "      <td>Durian exportscontributed $3 billion out of th...</td>\n",
       "      <td>https://e.vnexpress.net/</td>\n",
       "      <td>economy</td>\n",
       "    </tr>\n",
       "    <tr>\n",
       "      <th>3</th>\n",
       "      <td>Vietnamese guest workers earn highest incomes ...</td>\n",
       "      <td>https://e.vnexpress.net/news/business/economy/...</td>\n",
       "      <td>https://i1-english.vnecdn.net/2024/11/04/l1080...</td>\n",
       "      <td>The monthly incomes of Vietnamese guest worker...</td>\n",
       "      <td>According to the Vietnam Migration Profile 202...</td>\n",
       "      <td>https://e.vnexpress.net/</td>\n",
       "      <td>economy</td>\n",
       "    </tr>\n",
       "    <tr>\n",
       "      <th>4</th>\n",
       "      <td>Fresh coconuts quenching new overseas markets</td>\n",
       "      <td>https://e.vnexpress.net/news/business/economy/...</td>\n",
       "      <td>https://i1-english.vnecdn.net/2024/11/03/dua17...</td>\n",
       "      <td>Vietnam's fresh coconuts are being increasingl...</td>\n",
       "      <td>Vietnam holds the 6th position in the global c...</td>\n",
       "      <td>https://e.vnexpress.net/</td>\n",
       "      <td>economy</td>\n",
       "    </tr>\n",
       "  </tbody>\n",
       "</table>\n",
       "</div>"
      ],
      "text/plain": [
       "                                               title  \\\n",
       "0    Thailand eyes sending more workers to Singapore   \n",
       "1  How will Trump and Harris’s policies affect Vi...   \n",
       "2  Agriculture exports soar 20%, led by durian, c...   \n",
       "3  Vietnamese guest workers earn highest incomes ...   \n",
       "4      Fresh coconuts quenching new overseas markets   \n",
       "\n",
       "                                                link  \\\n",
       "0  https://e.vnexpress.net/news/business/economy/...   \n",
       "1  https://e.vnexpress.net/news/business/economy/...   \n",
       "2  https://e.vnexpress.net/news/business/economy/...   \n",
       "3  https://e.vnexpress.net/news/business/economy/...   \n",
       "4  https://e.vnexpress.net/news/business/economy/...   \n",
       "\n",
       "                                                 img  \\\n",
       "0  https://i1-english.vnecdn.net/2024/11/04/AAFP2...   \n",
       "1  https://i1-english.vnecdn.net/2024/11/04/Trump...   \n",
       "2  https://i1-english.vnecdn.net/2024/11/02/ADSC0...   \n",
       "3  https://i1-english.vnecdn.net/2024/11/04/l1080...   \n",
       "4  https://i1-english.vnecdn.net/2024/11/03/dua17...   \n",
       "\n",
       "                                                info  \\\n",
       "0  Thailand’s Ministry of Labor is planning to ex...   \n",
       "1  Vietnam’s economy is likely to have similar im...   \n",
       "2  Vietnam’s agriculture exports in the first 10 ...   \n",
       "3  The monthly incomes of Vietnamese guest worker...   \n",
       "4  Vietnam's fresh coconuts are being increasingl...   \n",
       "\n",
       "                                         info_detail  \\\n",
       "0  Singapore is looking for welders in the shipbu...   \n",
       "1  The outcome of the presidential elections, set...   \n",
       "2  Durian exportscontributed $3 billion out of th...   \n",
       "3  According to the Vietnam Migration Profile 202...   \n",
       "4  Vietnam holds the 6th position in the global c...   \n",
       "\n",
       "                       page category  \n",
       "0  https://e.vnexpress.net/  economy  \n",
       "1  https://e.vnexpress.net/  economy  \n",
       "2  https://e.vnexpress.net/  economy  \n",
       "3  https://e.vnexpress.net/  economy  \n",
       "4  https://e.vnexpress.net/  economy  "
      ]
     },
     "execution_count": 2,
     "metadata": {},
     "output_type": "execute_result"
    }
   ],
   "source": [
    "df = pd.read_csv('vnexpress_articles.csv')\n",
    "df.head()"
   ]
  },
  {
   "cell_type": "code",
   "execution_count": 3,
   "metadata": {},
   "outputs": [
    {
     "name": "stdout",
     "output_type": "stream",
     "text": [
      "<class 'pandas.core.frame.DataFrame'>\n",
      "RangeIndex: 5100 entries, 0 to 5099\n",
      "Data columns (total 7 columns):\n",
      " #   Column       Non-Null Count  Dtype \n",
      "---  ------       --------------  ----- \n",
      " 0   title        5100 non-null   object\n",
      " 1   link         5100 non-null   object\n",
      " 2   img          5074 non-null   object\n",
      " 3   info         4703 non-null   object\n",
      " 4   info_detail  4558 non-null   object\n",
      " 5   page         5100 non-null   object\n",
      " 6   category     5100 non-null   object\n",
      "dtypes: object(7)\n",
      "memory usage: 279.0+ KB\n"
     ]
    }
   ],
   "source": [
    "df.info()"
   ]
  },
  {
   "cell_type": "code",
   "execution_count": 4,
   "metadata": {},
   "outputs": [],
   "source": [
    "# Gộp hai cột \"info\" và \"info_detail\"\n",
    "df['combined'] = df['info'] + \" \" + df['info_detail']"
   ]
  },
  {
   "cell_type": "markdown",
   "metadata": {},
   "source": [
    "Khi thực hiện crawl data, ta nhận thấy rằng nội dung đoạn đầu bài báo được sử dụng 2 thẻ khác nhau nên ta thực hiện crawl thành Cột 'info' và 'info_detail'. Bây giờ để có nội dung hoàn chỉnh, thực hiện kết hợp 2 cột lại với nhau"
   ]
  },
  {
   "cell_type": "code",
   "execution_count": 5,
   "metadata": {},
   "outputs": [
    {
     "data": {
      "text/html": [
       "<div>\n",
       "<style scoped>\n",
       "    .dataframe tbody tr th:only-of-type {\n",
       "        vertical-align: middle;\n",
       "    }\n",
       "\n",
       "    .dataframe tbody tr th {\n",
       "        vertical-align: top;\n",
       "    }\n",
       "\n",
       "    .dataframe thead th {\n",
       "        text-align: right;\n",
       "    }\n",
       "</style>\n",
       "<table border=\"1\" class=\"dataframe\">\n",
       "  <thead>\n",
       "    <tr style=\"text-align: right;\">\n",
       "      <th></th>\n",
       "      <th>category</th>\n",
       "      <th>combined</th>\n",
       "    </tr>\n",
       "  </thead>\n",
       "  <tbody>\n",
       "    <tr>\n",
       "      <th>0</th>\n",
       "      <td>economy</td>\n",
       "      <td>Thailand’s Ministry of Labor is planning to ex...</td>\n",
       "    </tr>\n",
       "    <tr>\n",
       "      <th>1</th>\n",
       "      <td>economy</td>\n",
       "      <td>Vietnam’s economy is likely to have similar im...</td>\n",
       "    </tr>\n",
       "    <tr>\n",
       "      <th>2</th>\n",
       "      <td>economy</td>\n",
       "      <td>Vietnam’s agriculture exports in the first 10 ...</td>\n",
       "    </tr>\n",
       "    <tr>\n",
       "      <th>3</th>\n",
       "      <td>economy</td>\n",
       "      <td>The monthly incomes of Vietnamese guest worker...</td>\n",
       "    </tr>\n",
       "    <tr>\n",
       "      <th>4</th>\n",
       "      <td>economy</td>\n",
       "      <td>Vietnam's fresh coconuts are being increasingl...</td>\n",
       "    </tr>\n",
       "    <tr>\n",
       "      <th>...</th>\n",
       "      <td>...</td>\n",
       "      <td>...</td>\n",
       "    </tr>\n",
       "    <tr>\n",
       "      <th>5095</th>\n",
       "      <td>Education</td>\n",
       "      <td>As the high school entrance exams approach, se...</td>\n",
       "    </tr>\n",
       "    <tr>\n",
       "      <th>5096</th>\n",
       "      <td>Education</td>\n",
       "      <td>A schoolgirl in the northern Bac Ninh Province...</td>\n",
       "    </tr>\n",
       "    <tr>\n",
       "      <th>5097</th>\n",
       "      <td>Education</td>\n",
       "      <td>Two HCMC students have secured internships at ...</td>\n",
       "    </tr>\n",
       "    <tr>\n",
       "      <th>5098</th>\n",
       "      <td>Education</td>\n",
       "      <td>Hanoi high school student Vu Quoc Trung has ma...</td>\n",
       "    </tr>\n",
       "    <tr>\n",
       "      <th>5099</th>\n",
       "      <td>Education</td>\n",
       "      <td>Vietnamese students won a third prize at the 2...</td>\n",
       "    </tr>\n",
       "  </tbody>\n",
       "</table>\n",
       "<p>5100 rows × 2 columns</p>\n",
       "</div>"
      ],
      "text/plain": [
       "       category                                           combined\n",
       "0       economy  Thailand’s Ministry of Labor is planning to ex...\n",
       "1       economy  Vietnam’s economy is likely to have similar im...\n",
       "2       economy  Vietnam’s agriculture exports in the first 10 ...\n",
       "3       economy  The monthly incomes of Vietnamese guest worker...\n",
       "4       economy  Vietnam's fresh coconuts are being increasingl...\n",
       "...         ...                                                ...\n",
       "5095  Education  As the high school entrance exams approach, se...\n",
       "5096  Education  A schoolgirl in the northern Bac Ninh Province...\n",
       "5097  Education  Two HCMC students have secured internships at ...\n",
       "5098  Education  Hanoi high school student Vu Quoc Trung has ma...\n",
       "5099  Education  Vietnamese students won a third prize at the 2...\n",
       "\n",
       "[5100 rows x 2 columns]"
      ]
     },
     "execution_count": 5,
     "metadata": {},
     "output_type": "execute_result"
    }
   ],
   "source": [
    "df = df.drop(['link','img', 'page', 'title','info','info_detail'], axis=1)\n",
    "df"
   ]
  },
  {
   "cell_type": "code",
   "execution_count": 6,
   "metadata": {},
   "outputs": [
    {
     "data": {
      "text/plain": [
       "category      0\n",
       "combined    560\n",
       "dtype: int64"
      ]
     },
     "execution_count": 6,
     "metadata": {},
     "output_type": "execute_result"
    }
   ],
   "source": [
    "df.isnull().sum()\n"
   ]
  },
  {
   "cell_type": "code",
   "execution_count": 7,
   "metadata": {},
   "outputs": [
    {
     "name": "stdout",
     "output_type": "stream",
     "text": [
      "Dữ liệu sau khi xóa hàng rỗng:\n",
      "<class 'pandas.core.frame.DataFrame'>\n",
      "Index: 4540 entries, 0 to 5099\n",
      "Data columns (total 2 columns):\n",
      " #   Column    Non-Null Count  Dtype \n",
      "---  ------    --------------  ----- \n",
      " 0   category  4540 non-null   object\n",
      " 1   combined  4540 non-null   object\n",
      "dtypes: object(2)\n",
      "memory usage: 106.4+ KB\n",
      "None\n"
     ]
    }
   ],
   "source": [
    "# Xóa các hàng có giá trị rỗng trong cột 'combined'\n",
    "df = df.dropna(subset=['combined'])\n",
    "\n",
    "# Kiểm tra dữ liệu sau khi xóa\n",
    "print(\"Dữ liệu sau khi xóa hàng rỗng:\")\n",
    "print(df.info())"
   ]
  },
  {
   "cell_type": "code",
   "execution_count": 8,
   "metadata": {},
   "outputs": [
    {
     "data": {
      "text/plain": [
       "category\n",
       "markets         506\n",
       "crime           505\n",
       "data-speaks     502\n",
       "Education       493\n",
       "property        482\n",
       "economy         467\n",
       "traffic         428\n",
       "environment     420\n",
       "places          370\n",
       "Food-recipes    367\n",
       "Name: count, dtype: int64"
      ]
     },
     "execution_count": 8,
     "metadata": {},
     "output_type": "execute_result"
    }
   ],
   "source": [
    "# Đếm số lượng hàng cho từng giá trị trong cột 'category'\n",
    "value_counts = df['category'].value_counts()\n",
    "value_counts"
   ]
  },
  {
   "cell_type": "markdown",
   "metadata": {},
   "source": [
    "PREPROCESS TEXT"
   ]
  },
  {
   "cell_type": "code",
   "execution_count": 9,
   "metadata": {},
   "outputs": [],
   "source": [
    "from sklearn.feature_extraction.text import TfidfVectorizer\n",
    "from sklearn.preprocessing import LabelEncoder\n",
    "from sklearn.model_selection import train_test_split\n",
    "import re\n",
    "from nltk.corpus import stopwords\n",
    "from nltk.stem import SnowballStemmer\n",
    "import nltk"
   ]
  },
  {
   "cell_type": "code",
   "execution_count": 10,
   "metadata": {},
   "outputs": [
    {
     "name": "stderr",
     "output_type": "stream",
     "text": [
      "[nltk_data] Downloading package stopwords to\n",
      "[nltk_data]     C:\\Users\\HUUHUY\\AppData\\Roaming\\nltk_data...\n",
      "[nltk_data]   Package stopwords is already up-to-date!\n"
     ]
    },
    {
     "data": {
      "text/plain": [
       "True"
      ]
     },
     "execution_count": 10,
     "metadata": {},
     "output_type": "execute_result"
    }
   ],
   "source": [
    "# Tải bộ stopwords (chỉ cần chạy lần đầu)\n",
    "nltk.download('stopwords')"
   ]
  },
  {
   "cell_type": "code",
   "execution_count": 11,
   "metadata": {},
   "outputs": [],
   "source": [
    "# --- 1. Tiền xử lý văn bản ---\n",
    "def preprocess_text(text):\n",
    "    if pd.isnull(text):\n",
    "        return \"\"\n",
    "    # Loại bỏ ký tự đặc biệt, số, và chuyển thành chữ thường\n",
    "    text = re.sub(r\"[^a-zA-Z]\", \" \", text).lower()\n",
    "    # Tokenization và loại bỏ stop words\n",
    "    words = text.split()\n",
    "    stop_words = set(stopwords.words(\"english\"))\n",
    "    words = [word for word in words if word not in stop_words]\n",
    "    # Stemming\n",
    "    stemmer = SnowballStemmer(\"english\")\n",
    "    words = [stemmer.stem(word) for word in words]\n",
    "    return \" \".join(words)"
   ]
  },
  {
   "cell_type": "code",
   "execution_count": 12,
   "metadata": {},
   "outputs": [
    {
     "name": "stderr",
     "output_type": "stream",
     "text": [
      "C:\\Users\\HUUHUY\\AppData\\Local\\Temp\\ipykernel_15184\\2322700629.py:2: SettingWithCopyWarning: \n",
      "A value is trying to be set on a copy of a slice from a DataFrame.\n",
      "Try using .loc[row_indexer,col_indexer] = value instead\n",
      "\n",
      "See the caveats in the documentation: https://pandas.pydata.org/pandas-docs/stable/user_guide/indexing.html#returning-a-view-versus-a-copy\n",
      "  df['combined_cleaned'] = df['combined'].apply(preprocess_text)\n"
     ]
    },
    {
     "data": {
      "text/html": [
       "<div>\n",
       "<style scoped>\n",
       "    .dataframe tbody tr th:only-of-type {\n",
       "        vertical-align: middle;\n",
       "    }\n",
       "\n",
       "    .dataframe tbody tr th {\n",
       "        vertical-align: top;\n",
       "    }\n",
       "\n",
       "    .dataframe thead th {\n",
       "        text-align: right;\n",
       "    }\n",
       "</style>\n",
       "<table border=\"1\" class=\"dataframe\">\n",
       "  <thead>\n",
       "    <tr style=\"text-align: right;\">\n",
       "      <th></th>\n",
       "      <th>category</th>\n",
       "      <th>combined</th>\n",
       "      <th>combined_cleaned</th>\n",
       "    </tr>\n",
       "  </thead>\n",
       "  <tbody>\n",
       "    <tr>\n",
       "      <th>0</th>\n",
       "      <td>economy</td>\n",
       "      <td>Thailand’s Ministry of Labor is planning to ex...</td>\n",
       "      <td>thailand ministri labor plan export worker par...</td>\n",
       "    </tr>\n",
       "    <tr>\n",
       "      <th>1</th>\n",
       "      <td>economy</td>\n",
       "      <td>Vietnam’s economy is likely to have similar im...</td>\n",
       "      <td>vietnam economi like similar impact whether do...</td>\n",
       "    </tr>\n",
       "    <tr>\n",
       "      <th>2</th>\n",
       "      <td>economy</td>\n",
       "      <td>Vietnam’s agriculture exports in the first 10 ...</td>\n",
       "      <td>vietnam agricultur export first month surg yea...</td>\n",
       "    </tr>\n",
       "    <tr>\n",
       "      <th>3</th>\n",
       "      <td>economy</td>\n",
       "      <td>The monthly incomes of Vietnamese guest worker...</td>\n",
       "      <td>month incom vietnames guest worker abroad last...</td>\n",
       "    </tr>\n",
       "    <tr>\n",
       "      <th>4</th>\n",
       "      <td>economy</td>\n",
       "      <td>Vietnam's fresh coconuts are being increasingl...</td>\n",
       "      <td>vietnam fresh coconut increas consum intern ma...</td>\n",
       "    </tr>\n",
       "    <tr>\n",
       "      <th>...</th>\n",
       "      <td>...</td>\n",
       "      <td>...</td>\n",
       "      <td>...</td>\n",
       "    </tr>\n",
       "    <tr>\n",
       "      <th>5095</th>\n",
       "      <td>Education</td>\n",
       "      <td>As the high school entrance exams approach, se...</td>\n",
       "      <td>high school entranc exam approach senior stude...</td>\n",
       "    </tr>\n",
       "    <tr>\n",
       "      <th>5096</th>\n",
       "      <td>Education</td>\n",
       "      <td>A schoolgirl in the northern Bac Ninh Province...</td>\n",
       "      <td>schoolgirl northern bac ninh provinc diagnos s...</td>\n",
       "    </tr>\n",
       "    <tr>\n",
       "      <th>5097</th>\n",
       "      <td>Education</td>\n",
       "      <td>Two HCMC students have secured internships at ...</td>\n",
       "      <td>two hcmc student secur internship boe u aviat ...</td>\n",
       "    </tr>\n",
       "    <tr>\n",
       "      <th>5098</th>\n",
       "      <td>Education</td>\n",
       "      <td>Hanoi high school student Vu Quoc Trung has ma...</td>\n",
       "      <td>hanoi high school student vu quoc trung manag ...</td>\n",
       "    </tr>\n",
       "    <tr>\n",
       "      <th>5099</th>\n",
       "      <td>Education</td>\n",
       "      <td>Vietnamese students won a third prize at the 2...</td>\n",
       "      <td>vietnames student third prize regeneron intern...</td>\n",
       "    </tr>\n",
       "  </tbody>\n",
       "</table>\n",
       "<p>4540 rows × 3 columns</p>\n",
       "</div>"
      ],
      "text/plain": [
       "       category                                           combined  \\\n",
       "0       economy  Thailand’s Ministry of Labor is planning to ex...   \n",
       "1       economy  Vietnam’s economy is likely to have similar im...   \n",
       "2       economy  Vietnam’s agriculture exports in the first 10 ...   \n",
       "3       economy  The monthly incomes of Vietnamese guest worker...   \n",
       "4       economy  Vietnam's fresh coconuts are being increasingl...   \n",
       "...         ...                                                ...   \n",
       "5095  Education  As the high school entrance exams approach, se...   \n",
       "5096  Education  A schoolgirl in the northern Bac Ninh Province...   \n",
       "5097  Education  Two HCMC students have secured internships at ...   \n",
       "5098  Education  Hanoi high school student Vu Quoc Trung has ma...   \n",
       "5099  Education  Vietnamese students won a third prize at the 2...   \n",
       "\n",
       "                                       combined_cleaned  \n",
       "0     thailand ministri labor plan export worker par...  \n",
       "1     vietnam economi like similar impact whether do...  \n",
       "2     vietnam agricultur export first month surg yea...  \n",
       "3     month incom vietnames guest worker abroad last...  \n",
       "4     vietnam fresh coconut increas consum intern ma...  \n",
       "...                                                 ...  \n",
       "5095  high school entranc exam approach senior stude...  \n",
       "5096  schoolgirl northern bac ninh provinc diagnos s...  \n",
       "5097  two hcmc student secur internship boe u aviat ...  \n",
       "5098  hanoi high school student vu quoc trung manag ...  \n",
       "5099  vietnames student third prize regeneron intern...  \n",
       "\n",
       "[4540 rows x 3 columns]"
      ]
     },
     "execution_count": 12,
     "metadata": {},
     "output_type": "execute_result"
    }
   ],
   "source": [
    "# Tiền xử lý cột 'combined'\n",
    "df['combined_cleaned'] = df['combined'].apply(preprocess_text)\n",
    "df"
   ]
  },
  {
   "cell_type": "markdown",
   "metadata": {},
   "source": [
    "Vector"
   ]
  },
  {
   "cell_type": "code",
   "execution_count": 13,
   "metadata": {},
   "outputs": [],
   "source": [
    "# Vector hóa cột 'combined_cleaned' bằng TF-IDF\n",
    "tfidf_vectorizer = TfidfVectorizer(max_features=5000)  # Giới hạn 5000 từ phổ biến nhất\n",
    "X_text = tfidf_vectorizer.fit_transform(df['combined_cleaned'])\n",
    "\n",
    "# Encode cột 'category' bằng LabelEncoder\n",
    "label_encoder = LabelEncoder()\n",
    "y_labels = label_encoder.fit_transform(df['category'])"
   ]
  },
  {
   "cell_type": "markdown",
   "metadata": {},
   "source": [
    "TF-IDF là một phương pháp phổ biến trong xử lý ngôn ngữ tự nhiên (NLP) để biểu diễn văn bản dưới dạng vector số, nhằm đo mức độ quan trọng của một từ trong một văn bản cụ thể so với toàn bộ tập dữ liệu (corpus).\n",
    "\n",
    "Nếu một từ xuất hiện thường xuyên trong một tài liệu (TF cao) nhưng ít xuất hiện trong các tài liệu khác (IDF cao), thì TF-IDF sẽ cao. Điều này cho thấy từ đó có ý nghĩa quan trọng đối với tài liệu đó. Ngược lại, nếu từ xuất hiện ở hầu hết các tài liệu (IDF thấp), trọng số của nó sẽ thấp, ngay cả khi nó xuất hiện nhiều lần trong tài liệu.\n",
    "\n"
   ]
  },
  {
   "cell_type": "code",
   "execution_count": 14,
   "metadata": {},
   "outputs": [
    {
     "name": "stdout",
     "output_type": "stream",
     "text": [
      "Ma trận TF-IDF:\n",
      "   abandon  abdul  abil  abl  abnorm  aboard    abroad  absenc  absolut  \\\n",
      "0      0.0    0.0   0.0  0.0     0.0     0.0  0.000000     0.0      0.0   \n",
      "1      0.0    0.0   0.0  0.0     0.0     0.0  0.000000     0.0      0.0   \n",
      "2      0.0    0.0   0.0  0.0     0.0     0.0  0.000000     0.0      0.0   \n",
      "3      0.0    0.0   0.0  0.0     0.0     0.0  0.241057     0.0      0.0   \n",
      "4      0.0    0.0   0.0  0.0     0.0     0.0  0.000000     0.0      0.0   \n",
      "\n",
      "   absorb  ...  youth  youtub   yu  yuan  zalo   zealand  zero  zhang  zone  \\\n",
      "0     0.0  ...    0.0     0.0  0.0   0.0   0.0  0.000000   0.0    0.0   0.0   \n",
      "1     0.0  ...    0.0     0.0  0.0   0.0   0.0  0.000000   0.0    0.0   0.0   \n",
      "2     0.0  ...    0.0     0.0  0.0   0.0   0.0  0.000000   0.0    0.0   0.0   \n",
      "3     0.0  ...    0.0     0.0  0.0   0.0   0.0  0.153813   0.0    0.0   0.0   \n",
      "4     0.0  ...    0.0     0.0  0.0   0.0   0.0  0.000000   0.0    0.0   0.0   \n",
      "\n",
      "   zoo  \n",
      "0  0.0  \n",
      "1  0.0  \n",
      "2  0.0  \n",
      "3  0.0  \n",
      "4  0.0  \n",
      "\n",
      "[5 rows x 5000 columns]\n"
     ]
    }
   ],
   "source": [
    "# Chuyển ma trận TF-IDF thành DataFrame\n",
    "tfidf_df = pd.DataFrame(X_text.toarray(), columns=tfidf_vectorizer.get_feature_names_out())\n",
    "\n",
    "# Hiển thị 5 dòng đầu\n",
    "print(\"Ma trận TF-IDF:\")\n",
    "print(tfidf_df.head())"
   ]
  },
  {
   "cell_type": "code",
   "execution_count": 15,
   "metadata": {},
   "outputs": [
    {
     "name": "stdout",
     "output_type": "stream",
     "text": [
      "5 dòng đầu sau tiền xử lý và vector hóa:\n",
      "                                    combined_cleaned category\n",
      "0  thailand ministri labor plan export worker par...  economy\n",
      "1  vietnam economi like similar impact whether do...  economy\n",
      "2  vietnam agricultur export first month surg yea...  economy\n",
      "3  month incom vietnames guest worker abroad last...  economy\n",
      "4  vietnam fresh coconut increas consum intern ma...  economy\n",
      "\n",
      "Hình dạng của ma trận TF-IDF: (4540, 5000)\n",
      "\n",
      "Danh sách nhãn được mã hóa:\n",
      "       category  encoded\n",
      "0     Education        0\n",
      "1  Food-recipes        1\n",
      "2         crime        2\n",
      "3   data-speaks        3\n",
      "4       economy        4\n",
      "5   environment        5\n",
      "6       markets        6\n",
      "7        places        7\n",
      "8      property        8\n",
      "9       traffic        9\n"
     ]
    }
   ],
   "source": [
    "# Hiển thị nội dung\n",
    "print(\"5 dòng đầu sau tiền xử lý và vector hóa:\")\n",
    "print(df[['combined_cleaned', 'category']].head())\n",
    "print(\"\\nHình dạng của ma trận TF-IDF:\", X_text.shape)\n",
    "print(\"\\nDanh sách nhãn được mã hóa:\")\n",
    "print(pd.DataFrame({'category': label_encoder.classes_, 'encoded': range(len(label_encoder.classes_))}))"
   ]
  },
  {
   "cell_type": "code",
   "execution_count": 16,
   "metadata": {},
   "outputs": [],
   "source": [
    "# Lưu nhãn đã mã hóa\n",
    "pd.DataFrame({'category': df['category'], 'encoded_category': y_labels}).to_csv(\"category_labels.csv\", index=False)"
   ]
  },
  {
   "cell_type": "code",
   "execution_count": 17,
   "metadata": {},
   "outputs": [
    {
     "name": "stdout",
     "output_type": "stream",
     "text": [
      "Kết quả đã được lưu vào 'combined_tfidf.csv'\n"
     ]
    }
   ],
   "source": [
    "tfidf_df.to_csv(\"combined_tfidf.csv\", index=False)\n",
    "print(\"Kết quả đã được lưu vào 'combined_tfidf.csv'\")"
   ]
  },
  {
   "cell_type": "code",
   "execution_count": null,
   "metadata": {},
   "outputs": [],
   "source": []
  }
 ],
 "metadata": {
  "colab": {
   "provenance": []
  },
  "kernelspec": {
   "display_name": "Python 3",
   "name": "python3"
  },
  "language_info": {
   "codemirror_mode": {
    "name": "ipython",
    "version": 3
   },
   "file_extension": ".py",
   "mimetype": "text/x-python",
   "name": "python",
   "nbconvert_exporter": "python",
   "pygments_lexer": "ipython3",
   "version": "3.12.7"
  }
 },
 "nbformat": 4,
 "nbformat_minor": 0
}
