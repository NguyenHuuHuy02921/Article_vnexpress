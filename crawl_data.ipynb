{
 "cells": [
  {
   "cell_type": "code",
   "execution_count": 6,
   "metadata": {},
   "outputs": [],
   "source": [
    "import requests\n",
    "from bs4 import BeautifulSoup\n",
    "\n",
    "from selenium import webdriver\n",
    "from selenium.webdriver.common.by import By\n",
    "from selenium.webdriver.common.keys import Keys\n",
    "from selenium.webdriver.chrome.service import Service\n",
    "from selenium.webdriver.chrome.options import Options\n",
    "import csv\n",
    "import time"
   ]
  },
  {
   "cell_type": "code",
   "execution_count": 7,
   "metadata": {},
   "outputs": [],
   "source": [
    "# Cấu hình Selenium WebDriver (với Chrome)\n",
    "chrome_options = Options()\n",
    "chrome_options.add_argument(\"--headless\")  # chạy chế độ không giao diện để tăng hiệu suất\n",
    "chrome_options.add_argument(\"--no-sandbox\")\n",
    "chrome_options.add_argument(\"--disable-dev-shm-usage\")\n",
    "\n",
    "# Khởi tạo trình điều khiển Chrome\n",
    "service = Service(r'C:\\\\Users\\\\HUUHUY\\\\Downloads\\\\chromedriver-win64\\\\chromedriver.exe')   # Thay bằng đường dẫn đến file chromedriver của bạn\n",
    "# service = Service(r'C:\\\\Users\\\\HUUHUY\\\\Downloads\\\\App\\\\chrome-win64')   # Thay bằng đường dẫn đến file chromedriver của bạn\n",
    "driver = webdriver.Chrome(service=service, options=chrome_options)\n",
    "\n",
    "# URL của trang chính\n",
    "base_url = \"https://e.vnexpress.net/\"\n"
   ]
  },
  {
   "cell_type": "code",
   "execution_count": 8,
   "metadata": {},
   "outputs": [],
   "source": [
    "def crawl_category(category_url, category_name, click_limit=30):\n",
    "    articles = []\n",
    "    \n",
    "    # Mở trang danh mục bằng Selenium\n",
    "    driver.get(category_url)\n",
    "    time.sleep(2)  # Đợi trang tải\n",
    "\n",
    "    # Tự động nhấn \"view more stories\" với giới hạn số lần\n",
    "    click_count = 0\n",
    "    while click_count < click_limit:\n",
    "        try:\n",
    "            # Nhấn nút \"view more stories\"\n",
    "            view_more_button = driver.find_element(By.CLASS_NAME, \"block_viewall\")\n",
    "            view_more_button.click()\n",
    "            time.sleep(2)  # Nghỉ ngơi giữa các lần nhấn để tránh quá tải server\n",
    "            click_count += 1  # Tăng biến đếm sau mỗi lần nhấn\n",
    "        except:\n",
    "            print(\"Không có nút 'view more stories' hoặc đã tải hết dữ liệu.\")\n",
    "            break  # Thoát khỏi vòng lặp nếu không có nút hoặc đã tải hết dữ liệu\n",
    "\n",
    "    # Sau khi tải xong, lấy dữ liệu bằng BeautifulSoup\n",
    "    soup = BeautifulSoup(driver.page_source, 'html.parser')\n",
    "    articles_list = soup.find_all('div', class_='item_news')\n",
    "    \n",
    "    for article in articles_list:\n",
    "        try:\n",
    "            # Kiểm tra thẻ tiêu đề, thử thẻ h4 trước, nếu không có thì chuyển sang thẻ h2\n",
    "            title_tag = article.find('h4', class_='title_news_site') or article.find('h2', class_='title_news_site')\n",
    "            title = title_tag.get_text(strip=True) if title_tag else None\n",
    "            \n",
    "            link = article.find('a')['href'] if article.find('a') else None\n",
    "            img = article.find('img')['src'] if article.find('img') else None\n",
    "\n",
    "            # Gửi yêu cầu tới trang chi tiết bài báo để lấy nội dung đầy đủ\n",
    "            detail_response = requests.get(link)\n",
    "            detail_soup = BeautifulSoup(detail_response.content, 'html.parser')\n",
    "\n",
    "            # Lấy thông tin từ thẻ <p> và ghép lại\n",
    "            info_paragraphs = detail_soup.find_all('span', class_='lead_post_detail')\n",
    "            info = ' '.join([p.get_text(strip=True) for p in info_paragraphs])\n",
    "            \n",
    "            # Lấy nội dung chi tiết từ thẻ \"fck_detail\"\n",
    "            detail_content = detail_soup.find('div', class_='fck_detail')\n",
    "            info_detail = ' '.join([p.get_text(strip=True) for p in detail_content.find_all('p')]) if detail_content else None\n",
    "\n",
    "            # Lưu thông tin bài báo\n",
    "            articles.append({\n",
    "                'title': title,\n",
    "                'link': link,\n",
    "                'img': img,\n",
    "                'info': info,\n",
    "                'info_detail': info_detail,\n",
    "                'page': base_url,\n",
    "                'category': category_name\n",
    "            })\n",
    "        except Exception as e:\n",
    "            print(f\"Error processing article: {e}\")\n",
    "            continue\n",
    "    \n",
    "    return articles\n"
   ]
  },
  {
   "cell_type": "code",
   "execution_count": 9,
   "metadata": {},
   "outputs": [],
   "source": [
    "\n",
    "# Tạo file CSV và ghi dữ liệu\n",
    "def save_to_csv(articles):\n",
    "    keys = articles[0].keys()\n",
    "    with open('vnexpress_articles.csv', 'w', newline='', encoding='utf-8-sig') as output_file:\n",
    "        dict_writer = csv.DictWriter(output_file, fieldnames=keys)\n",
    "        dict_writer.writeheader()\n",
    "        dict_writer.writerows(articles)\n",
    "\n",
    "\n"
   ]
  },
  {
   "cell_type": "code",
   "execution_count": 10,
   "metadata": {},
   "outputs": [
    {
     "name": "stdout",
     "output_type": "stream",
     "text": [
      "Crawling category: economy\n",
      "Crawling category: markets\n",
      "Crawling category: property\n",
      "Crawling category: data-speaks\n",
      "Crawling category: Food-recipes\n",
      "Crawling category: places\n",
      "Crawling category: Brainteaser\n",
      "Crawling category: crime\n",
      "Crawling category: traffic\n",
      "Crawling category: environment\n",
      "Crawling category: Education\n"
     ]
    }
   ],
   "source": [
    "# Danh sách danh mục và link của VnExpress\n",
    "categories = {\n",
    "    'economy': 'https://e.vnexpress.net/news/business/economy',\n",
    "    'markets': 'https://e.vnexpress.net/news/business/markets',\n",
    "    'property': 'https://e.vnexpress.net/news/business/property',\n",
    "    'data-speaks': 'https://e.vnexpress.net/news/business/data-speaks',\n",
    "    'Food-recipes': 'https://e.vnexpress.net/news/travel/food-recipes',\n",
    "    'places': 'https://e.vnexpress.net/news/travel/places',\n",
    "    'Brainteaser': 'https://e.vnexpress.net/news/news/brainteaser',\n",
    "    'crime': 'https://e.vnexpress.net/news/news/crime',\n",
    "    'traffic': 'https://e.vnexpress.net/news/news/traffic',\n",
    "    'environment': 'https://e.vnexpress.net/news/news/environment',\n",
    "    'Education': 'https://e.vnexpress.net/news/news/education',\n",
    "}\n",
    "\n",
    "# Gọi hàm crawl cho từng danh mục và lưu kết quả vào CSV\n",
    "all_articles = []\n",
    "for category_name, category_url in categories.items():\n",
    "    print(f'Crawling category: {category_name}')\n",
    "    articles = crawl_category(category_url, category_name)\n",
    "    all_articles.extend(articles)\n",
    "    time.sleep(1)  # Để tránh quá tải server\n"
   ]
  },
  {
   "cell_type": "code",
   "execution_count": 11,
   "metadata": {},
   "outputs": [
    {
     "name": "stdout",
     "output_type": "stream",
     "text": [
      "Crawl thành công, dữ liệu đã được lưu vào 'vnexpress_articles.csv'\n"
     ]
    }
   ],
   "source": [
    "# Lưu tất cả bài báo vào file CSV\n",
    "if all_articles:\n",
    "    save_to_csv(all_articles)\n",
    "    print(\"Crawl thành công, dữ liệu đã được lưu vào 'vnexpress_articles.csv'\")\n",
    "else:\n",
    "    print(\"Không tìm thấy bài báo nào.\")\n",
    "\n",
    "# Đóng trình điều khiển sau khi hoàn tất\n",
    "driver.quit()"
   ]
  }
 ],
 "metadata": {
  "kernelspec": {
   "display_name": "Python 3",
   "language": "python",
   "name": "python3"
  },
  "language_info": {
   "codemirror_mode": {
    "name": "ipython",
    "version": 3
   },
   "file_extension": ".py",
   "mimetype": "text/x-python",
   "name": "python",
   "nbconvert_exporter": "python",
   "pygments_lexer": "ipython3",
   "version": "3.12.7"
  }
 },
 "nbformat": 4,
 "nbformat_minor": 2
}
